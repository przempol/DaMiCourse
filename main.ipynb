{
 "cells": [
  {
   "cell_type": "code",
   "execution_count": 1,
   "metadata": {},
   "outputs": [],
   "source": [
    "%load_ext autoreload\n",
    "%autoreload 1\n",
    "%aimport script\n",
    "\n",
    "import pandas as pd\n",
    "import numpy as np\n",
    "from time import time\n",
    "from matplotlib import pyplot as plt"
   ]
  },
  {
   "cell_type": "markdown",
   "metadata": {},
   "source": [
    "# Example of using k-means method\n",
    "\n",
    "We will show how to use our script. First we have to load dataset (here consisting various information about adults).\n",
    "\n",
    "1. The task is to determine whether or not person earns more than 50K a year.\n",
    "2. We will compare obtained results with dataset authors best and worst algorithm.\n",
    "3. Three different measures will be compared."
   ]
  },
  {
   "cell_type": "code",
   "execution_count": 2,
   "metadata": {},
   "outputs": [
    {
     "data": {
      "text/html": [
       "<div>\n",
       "<style scoped>\n",
       "    .dataframe tbody tr th:only-of-type {\n",
       "        vertical-align: middle;\n",
       "    }\n",
       "\n",
       "    .dataframe tbody tr th {\n",
       "        vertical-align: top;\n",
       "    }\n",
       "\n",
       "    .dataframe thead th {\n",
       "        text-align: right;\n",
       "    }\n",
       "</style>\n",
       "<table border=\"1\" class=\"dataframe\">\n",
       "  <thead>\n",
       "    <tr style=\"text-align: right;\">\n",
       "      <th></th>\n",
       "      <th>0</th>\n",
       "      <th>1</th>\n",
       "      <th>2</th>\n",
       "      <th>3</th>\n",
       "      <th>4</th>\n",
       "      <th>5</th>\n",
       "      <th>6</th>\n",
       "      <th>7</th>\n",
       "      <th>8</th>\n",
       "      <th>9</th>\n",
       "      <th>10</th>\n",
       "      <th>11</th>\n",
       "      <th>12</th>\n",
       "      <th>13</th>\n",
       "      <th>14</th>\n",
       "    </tr>\n",
       "  </thead>\n",
       "  <tbody>\n",
       "    <tr>\n",
       "      <th>0</th>\n",
       "      <td>39</td>\n",
       "      <td>State-gov</td>\n",
       "      <td>77516</td>\n",
       "      <td>Bachelors</td>\n",
       "      <td>13</td>\n",
       "      <td>Never-married</td>\n",
       "      <td>Adm-clerical</td>\n",
       "      <td>Not-in-family</td>\n",
       "      <td>White</td>\n",
       "      <td>Male</td>\n",
       "      <td>2174</td>\n",
       "      <td>0</td>\n",
       "      <td>40</td>\n",
       "      <td>United-States</td>\n",
       "      <td>&lt;=50K</td>\n",
       "    </tr>\n",
       "    <tr>\n",
       "      <th>1</th>\n",
       "      <td>50</td>\n",
       "      <td>Self-emp-not-inc</td>\n",
       "      <td>83311</td>\n",
       "      <td>Bachelors</td>\n",
       "      <td>13</td>\n",
       "      <td>Married-civ-spouse</td>\n",
       "      <td>Exec-managerial</td>\n",
       "      <td>Husband</td>\n",
       "      <td>White</td>\n",
       "      <td>Male</td>\n",
       "      <td>0</td>\n",
       "      <td>0</td>\n",
       "      <td>13</td>\n",
       "      <td>United-States</td>\n",
       "      <td>&lt;=50K</td>\n",
       "    </tr>\n",
       "    <tr>\n",
       "      <th>2</th>\n",
       "      <td>38</td>\n",
       "      <td>Private</td>\n",
       "      <td>215646</td>\n",
       "      <td>HS-grad</td>\n",
       "      <td>9</td>\n",
       "      <td>Divorced</td>\n",
       "      <td>Handlers-cleaners</td>\n",
       "      <td>Not-in-family</td>\n",
       "      <td>White</td>\n",
       "      <td>Male</td>\n",
       "      <td>0</td>\n",
       "      <td>0</td>\n",
       "      <td>40</td>\n",
       "      <td>United-States</td>\n",
       "      <td>&lt;=50K</td>\n",
       "    </tr>\n",
       "    <tr>\n",
       "      <th>3</th>\n",
       "      <td>53</td>\n",
       "      <td>Private</td>\n",
       "      <td>234721</td>\n",
       "      <td>11th</td>\n",
       "      <td>7</td>\n",
       "      <td>Married-civ-spouse</td>\n",
       "      <td>Handlers-cleaners</td>\n",
       "      <td>Husband</td>\n",
       "      <td>Black</td>\n",
       "      <td>Male</td>\n",
       "      <td>0</td>\n",
       "      <td>0</td>\n",
       "      <td>40</td>\n",
       "      <td>United-States</td>\n",
       "      <td>&lt;=50K</td>\n",
       "    </tr>\n",
       "    <tr>\n",
       "      <th>4</th>\n",
       "      <td>28</td>\n",
       "      <td>Private</td>\n",
       "      <td>338409</td>\n",
       "      <td>Bachelors</td>\n",
       "      <td>13</td>\n",
       "      <td>Married-civ-spouse</td>\n",
       "      <td>Prof-specialty</td>\n",
       "      <td>Wife</td>\n",
       "      <td>Black</td>\n",
       "      <td>Female</td>\n",
       "      <td>0</td>\n",
       "      <td>0</td>\n",
       "      <td>40</td>\n",
       "      <td>Cuba</td>\n",
       "      <td>&lt;=50K</td>\n",
       "    </tr>\n",
       "    <tr>\n",
       "      <th>...</th>\n",
       "      <td>...</td>\n",
       "      <td>...</td>\n",
       "      <td>...</td>\n",
       "      <td>...</td>\n",
       "      <td>...</td>\n",
       "      <td>...</td>\n",
       "      <td>...</td>\n",
       "      <td>...</td>\n",
       "      <td>...</td>\n",
       "      <td>...</td>\n",
       "      <td>...</td>\n",
       "      <td>...</td>\n",
       "      <td>...</td>\n",
       "      <td>...</td>\n",
       "      <td>...</td>\n",
       "    </tr>\n",
       "    <tr>\n",
       "      <th>32556</th>\n",
       "      <td>27</td>\n",
       "      <td>Private</td>\n",
       "      <td>257302</td>\n",
       "      <td>Assoc-acdm</td>\n",
       "      <td>12</td>\n",
       "      <td>Married-civ-spouse</td>\n",
       "      <td>Tech-support</td>\n",
       "      <td>Wife</td>\n",
       "      <td>White</td>\n",
       "      <td>Female</td>\n",
       "      <td>0</td>\n",
       "      <td>0</td>\n",
       "      <td>38</td>\n",
       "      <td>United-States</td>\n",
       "      <td>&lt;=50K</td>\n",
       "    </tr>\n",
       "    <tr>\n",
       "      <th>32557</th>\n",
       "      <td>40</td>\n",
       "      <td>Private</td>\n",
       "      <td>154374</td>\n",
       "      <td>HS-grad</td>\n",
       "      <td>9</td>\n",
       "      <td>Married-civ-spouse</td>\n",
       "      <td>Machine-op-inspct</td>\n",
       "      <td>Husband</td>\n",
       "      <td>White</td>\n",
       "      <td>Male</td>\n",
       "      <td>0</td>\n",
       "      <td>0</td>\n",
       "      <td>40</td>\n",
       "      <td>United-States</td>\n",
       "      <td>&gt;50K</td>\n",
       "    </tr>\n",
       "    <tr>\n",
       "      <th>32558</th>\n",
       "      <td>58</td>\n",
       "      <td>Private</td>\n",
       "      <td>151910</td>\n",
       "      <td>HS-grad</td>\n",
       "      <td>9</td>\n",
       "      <td>Widowed</td>\n",
       "      <td>Adm-clerical</td>\n",
       "      <td>Unmarried</td>\n",
       "      <td>White</td>\n",
       "      <td>Female</td>\n",
       "      <td>0</td>\n",
       "      <td>0</td>\n",
       "      <td>40</td>\n",
       "      <td>United-States</td>\n",
       "      <td>&lt;=50K</td>\n",
       "    </tr>\n",
       "    <tr>\n",
       "      <th>32559</th>\n",
       "      <td>22</td>\n",
       "      <td>Private</td>\n",
       "      <td>201490</td>\n",
       "      <td>HS-grad</td>\n",
       "      <td>9</td>\n",
       "      <td>Never-married</td>\n",
       "      <td>Adm-clerical</td>\n",
       "      <td>Own-child</td>\n",
       "      <td>White</td>\n",
       "      <td>Male</td>\n",
       "      <td>0</td>\n",
       "      <td>0</td>\n",
       "      <td>20</td>\n",
       "      <td>United-States</td>\n",
       "      <td>&lt;=50K</td>\n",
       "    </tr>\n",
       "    <tr>\n",
       "      <th>32560</th>\n",
       "      <td>52</td>\n",
       "      <td>Self-emp-inc</td>\n",
       "      <td>287927</td>\n",
       "      <td>HS-grad</td>\n",
       "      <td>9</td>\n",
       "      <td>Married-civ-spouse</td>\n",
       "      <td>Exec-managerial</td>\n",
       "      <td>Wife</td>\n",
       "      <td>White</td>\n",
       "      <td>Female</td>\n",
       "      <td>15024</td>\n",
       "      <td>0</td>\n",
       "      <td>40</td>\n",
       "      <td>United-States</td>\n",
       "      <td>&gt;50K</td>\n",
       "    </tr>\n",
       "  </tbody>\n",
       "</table>\n",
       "<p>32561 rows × 15 columns</p>\n",
       "</div>"
      ],
      "text/plain": [
       "       0                  1       2            3   4                    5   \\\n",
       "0      39          State-gov   77516    Bachelors  13        Never-married   \n",
       "1      50   Self-emp-not-inc   83311    Bachelors  13   Married-civ-spouse   \n",
       "2      38            Private  215646      HS-grad   9             Divorced   \n",
       "3      53            Private  234721         11th   7   Married-civ-spouse   \n",
       "4      28            Private  338409    Bachelors  13   Married-civ-spouse   \n",
       "...    ..                ...     ...          ...  ..                  ...   \n",
       "32556  27            Private  257302   Assoc-acdm  12   Married-civ-spouse   \n",
       "32557  40            Private  154374      HS-grad   9   Married-civ-spouse   \n",
       "32558  58            Private  151910      HS-grad   9              Widowed   \n",
       "32559  22            Private  201490      HS-grad   9        Never-married   \n",
       "32560  52       Self-emp-inc  287927      HS-grad   9   Married-civ-spouse   \n",
       "\n",
       "                       6               7       8        9      10  11  12  \\\n",
       "0            Adm-clerical   Not-in-family   White     Male   2174   0  40   \n",
       "1         Exec-managerial         Husband   White     Male      0   0  13   \n",
       "2       Handlers-cleaners   Not-in-family   White     Male      0   0  40   \n",
       "3       Handlers-cleaners         Husband   Black     Male      0   0  40   \n",
       "4          Prof-specialty            Wife   Black   Female      0   0  40   \n",
       "...                   ...             ...     ...      ...    ...  ..  ..   \n",
       "32556        Tech-support            Wife   White   Female      0   0  38   \n",
       "32557   Machine-op-inspct         Husband   White     Male      0   0  40   \n",
       "32558        Adm-clerical       Unmarried   White   Female      0   0  40   \n",
       "32559        Adm-clerical       Own-child   White     Male      0   0  20   \n",
       "32560     Exec-managerial            Wife   White   Female  15024   0  40   \n",
       "\n",
       "                   13      14  \n",
       "0       United-States   <=50K  \n",
       "1       United-States   <=50K  \n",
       "2       United-States   <=50K  \n",
       "3       United-States   <=50K  \n",
       "4                Cuba   <=50K  \n",
       "...               ...     ...  \n",
       "32556   United-States   <=50K  \n",
       "32557   United-States    >50K  \n",
       "32558   United-States   <=50K  \n",
       "32559   United-States   <=50K  \n",
       "32560   United-States    >50K  \n",
       "\n",
       "[32561 rows x 15 columns]"
      ]
     },
     "execution_count": 2,
     "metadata": {},
     "output_type": "execute_result"
    }
   ],
   "source": [
    "data = pd.read_csv('data/adult.data', delimiter=',', header=None)\n",
    "data"
   ]
  },
  {
   "cell_type": "markdown",
   "metadata": {},
   "source": [
    "# Implemented measures/distances are as follows:\n",
    "* method - one of ['sorted', 'hamming', 'gower']\n",
    "* mode_nominal - one of [True, False]\n",
    "\n",
    "Where *method* follows one of three implemented measures, while *mode_nominal* mean that we will use mode rather than mean for finding center of clusters for nominal data.\n"
   ]
  },
  {
   "cell_type": "code",
   "execution_count": 3,
   "metadata": {},
   "outputs": [
    {
     "name": "stdout",
     "output_type": "stream",
     "text": [
      "Accuracy of Gower distance = 73.48 %\n"
     ]
    }
   ],
   "source": [
    "# set fixed value seed for reproduce\n",
    "np.random.seed(0)\n",
    "clusters, idx = script.k_means(data,\n",
    "                               numerical=[0,2,4,10,11,12], nominal=[1,3,5,6,7,8,9,13],\n",
    "                               K=2, iters=10, method='gower', mode_nominal=False)\n",
    "\n",
    "# here we set 15th column with prediction of k-mean method\n",
    "data[15] = idx[-1]\n",
    "\n",
    "# some calculations to obtain accuracy\n",
    "data[15] = data[15].replace(dict(zip([0,1], data[14].unique())))\n",
    "accuracy = (data[14]==data[15]).sum()/data.shape[0]\n",
    "accuracy = np.max([accuracy, 1-accuracy])\n",
    "\n",
    "#print accuracy\n",
    "print(f'Accuracy of Gower distance = {100*accuracy:.2f} %')"
   ]
  },
  {
   "cell_type": "markdown",
   "metadata": {},
   "source": [
    "### Here we use mode instead mean for nominal data"
   ]
  },
  {
   "cell_type": "code",
   "execution_count": 4,
   "metadata": {},
   "outputs": [
    {
     "name": "stdout",
     "output_type": "stream",
     "text": [
      "Accuracy of Gower distance (with mode instead of mean for nominal data)= 61.46 %\n"
     ]
    }
   ],
   "source": [
    "# set fixed value seed for reproduce\n",
    "np.random.seed(0)\n",
    "clusters, idx = script.k_means(data,\n",
    "                               numerical=[0,2,4,10,11,12], nominal=[1,3,5,6,7,8,9,13],\n",
    "                               K=2, iters=10, method='gower', mode_nominal=True)\n",
    "\n",
    "# here we set 15th column with prediction of k-mean method\n",
    "data[15] = idx[-1]\n",
    "\n",
    "# some calculations to obtain accuracy\n",
    "data[15] = data[15].replace(dict(zip([0,1], data[14].unique())))\n",
    "accuracy = (data[14]==data[15]).sum()/data.shape[0]\n",
    "accuracy = np.max([accuracy, 1-accuracy])\n",
    "\n",
    "#print accuracy\n",
    "print(f'Accuracy of Gower distance (with mode instead of mean for nominal data)= {100*accuracy:.2f} %')"
   ]
  },
  {
   "cell_type": "markdown",
   "metadata": {},
   "source": [
    "## One can also set custom measures.\n",
    "See example below, where we specify distance function as logarithm for numerical data and hamming for nominal data"
   ]
  },
  {
   "cell_type": "code",
   "execution_count": 5,
   "metadata": {},
   "outputs": [
    {
     "name": "stdout",
     "output_type": "stream",
     "text": [
      "Applying custom distance function\n",
      "Accuracy for log(1+|x-y|) numerical distance and x!=y nominal distance = 78.22 %\n"
     ]
    }
   ],
   "source": [
    "# set fixed value seed for reproduce\n",
    "np.random.seed(0)\n",
    "clusters, idx = script.k_means(data,\n",
    "                               numerical=[0,2,4,10,11,12], nominal=[1,3,5,6,7,8,9,13],\n",
    "                               K=2, iters=10, mode_nominal=False, \n",
    "                               distance_function_num = lambda x, y: np.log(1+np.abs((x-y))), \n",
    "                               distance_function_nom = lambda x, y: x!=y)\n",
    "\n",
    "# here we set 15th column with prediction of k-mean method\n",
    "data[15] = idx[-1]\n",
    "\n",
    "# some calculations to obtain accuracy\n",
    "data[15] = data[15].replace(dict(zip([0,1], data[14].unique())))\n",
    "accuracy = (data[14]==data[15]).sum()/data.shape[0]\n",
    "accuracy = np.max([accuracy, 1-accuracy])\n",
    "\n",
    "#print accuracy\n",
    "print(f'Accuracy for log(1+|x-y|) numerical distance and x!=y nominal distance = {100*accuracy:.2f} %')"
   ]
  },
  {
   "cell_type": "markdown",
   "metadata": {},
   "source": [
    "## Comparision\n",
    "Here we compare different measures in k-mean algorithm.\n",
    "\n",
    "We will present results using box-plots, alongside of best and worst algorithms used by the autors of given dataset (numbers were provided in .info file)."
   ]
  },
  {
   "cell_type": "code",
   "execution_count": 6,
   "metadata": {},
   "outputs": [
    {
     "name": "stdout",
     "output_type": "stream",
     "text": [
      "[0.6176100242621541, 0.6120819385154019, 0.6105463591413041, 0.6206811830103498, 0.6147845582138141]\n"
     ]
    }
   ],
   "source": [
    "# set fixed value seed for reproduce\n",
    "np.random.seed(0)\n",
    "accuracies1 = []\n",
    "for _ in range(100):\n",
    "    clusters, idx = script.k_means(data,\n",
    "                                   numerical=[0,2,4,10,11,12], nominal=[1,3,5,6,7,8,9,13],\n",
    "                                   K=2, iters=10, method='sorted')\n",
    "    data[15] = idx[-1]\n",
    "    data[15] = data[15].replace(dict(zip([0,1], data[14].unique())))\n",
    "    accuracy = (data[14]==data[15]).sum()/data.shape[0]\n",
    "    accuracy = np.max([accuracy, 1-accuracy])\n",
    "    accuracies1 += [accuracy]\n",
    "\n",
    "# print first five of accuracies\n",
    "print(accuracies1[:5])"
   ]
  },
  {
   "cell_type": "code",
   "execution_count": 7,
   "metadata": {},
   "outputs": [
    {
     "name": "stdout",
     "output_type": "stream",
     "text": [
      "[0.6176100242621541, 0.6120819385154019, 0.6105463591413041, 0.6206811830103498, 0.6147845582138141]\n"
     ]
    }
   ],
   "source": [
    "# set fixed value seed for reproduce\n",
    "np.random.seed(0)\n",
    "accuracies2 = []\n",
    "for _ in range(100):\n",
    "    clusters, idx = script.k_means(data,\n",
    "                                   numerical=[0,2,4,10,11,12], nominal=[1,3,5,6,7,8,9,13],\n",
    "                                   K=2, iters=10, method='hamming')\n",
    "    data[15] = idx[-1]\n",
    "    data[15] = data[15].replace(dict(zip([0,1], data[14].unique())))\n",
    "    accuracy = (data[14]==data[15]).sum()/data.shape[0]\n",
    "    accuracy = np.max([accuracy, 1-accuracy])\n",
    "    accuracies2 += [accuracy]\n",
    "\n",
    "# print first five of accuracies\n",
    "print(accuracies2[:5])"
   ]
  },
  {
   "cell_type": "code",
   "execution_count": 8,
   "metadata": {},
   "outputs": [
    {
     "name": "stdout",
     "output_type": "stream",
     "text": [
      "[0.7348361536807838, 0.658333589263229, 0.6653051196216333, 0.7348054420933018, 0.7348361536807838]\n"
     ]
    }
   ],
   "source": [
    "# set fixed value seed for reproduce\n",
    "np.random.seed(0)\n",
    "accuracies3 = []\n",
    "for _ in range(100):\n",
    "    clusters, idx = script.k_means(data,\n",
    "                                   numerical=[0,2,4,10,11,12], nominal=[1,3,5,6,7,8,9,13],\n",
    "                                   K=2, iters=10, method='gower', mode_nominal=False)\n",
    "    data[15] = idx[-1]\n",
    "    data[15] = data[15].replace(dict(zip([0,1], data[14].unique())))\n",
    "    accuracy = (data[14]==data[15]).sum()/data.shape[0]\n",
    "    accuracy = np.max([accuracy, 1-accuracy])\n",
    "    accuracies3 += [accuracy]\n",
    "\n",
    "# print first five of accuracies\n",
    "print(accuracies3[:5])"
   ]
  },
  {
   "cell_type": "code",
   "execution_count": 9,
   "metadata": {},
   "outputs": [
    {
     "data": {
      "image/png": "[encoded data removed]",
      "text/plain": [
       "<Figure size 700x600 with 1 Axes>"
      ]
     },
     "metadata": {
      "needs_background": "light"
     },
     "output_type": "display_data"
    }
   ],
   "source": [
    "import matplotlib.ticker as mtick\n",
    "fig, ax = plt.subplots(figsize=(7,6), dpi=100)\n",
    "\n",
    "\n",
    "ax.boxplot(100*np.array(accuracies1), vert=False, positions=[1])\n",
    "ax.boxplot(100*np.array(accuracies2), vert=False, positions=[2])\n",
    "ax.boxplot(100*np.array(accuracies3), vert=False, positions=[3])\n",
    "\n",
    "ax.set_title(f'Comparision of k-mean distances')\n",
    "ax.set_xlabel('% of good guesses')\n",
    "ax.set_yticklabels(['Sorted distance', 'Hamming distance', 'Gower distance'])\n",
    "ax.grid(ls=':', axis='x')\n",
    "ax.set_facecolor('azure')\n",
    "\n",
    "ax.axvline(100-15.4, color='navy', label='Dataset Authors best algorithm - Naive-Bayes')\n",
    "ax.axvline(100-34.8, color='darkgreen', label='Dataset Authors worst algorithm - K-Nearest-neighbor (3)')\n",
    "ax.xaxis.set_major_formatter(mtick.PercentFormatter())\n",
    "\n",
    "ax.legend()\n",
    "plt.savefig(\"plots/comparision_adults.pdf\", transparent=True, bbox_inches='tight')\n",
    "plt.show()"
   ]
  }
 ],
 "metadata": {
  "kernelspec": {
   "display_name": "Python 3",
   "language": "python",
   "name": "python3"
  },
  "language_info": {
   "codemirror_mode": {
    "name": "ipython",
    "version": 3
   },
   "file_extension": ".py",
   "mimetype": "text/x-python",
   "name": "python",
   "nbconvert_exporter": "python",
   "pygments_lexer": "ipython3",
   "version": "3.8.5"
  }
 },
 "nbformat": 4,
 "nbformat_minor": 4
}
